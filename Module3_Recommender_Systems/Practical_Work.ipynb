{
  "nbformat": 4,
  "nbformat_minor": 0,
  "metadata": {
    "colab": {
      "provenance": []
    },
    "kernelspec": {
      "name": "python3",
      "display_name": "Python 3"
    },
    "language_info": {
      "name": "python"
    }
  },
  "cells": [
    {
      "cell_type": "markdown",
      "source": [
        "# Projeto Prático: Sistemas de Recomendação\n",
        "<hr>\n",
        "\n",
        "#### Implementação de funções usadas em sistemas de recomendação <br>"
      ],
      "metadata": {
        "id": "x6m8--VZ8lHh"
      }
    },
    {
      "cell_type": "code",
      "source": [
        "# importando bibliotecas necessarias\n",
        "import numpy as np\n",
        "import pandas as pd\n",
        "import matplotlib.pyplot as plt\n",
        "from scipy.spatial.distance import pdist, hamming, cosine"
      ],
      "metadata": {
        "id": "FNY5UbiH8_2d"
      },
      "execution_count": 1,
      "outputs": []
    },
    {
      "cell_type": "markdown",
      "source": [
        "### Pergunta 1:\n",
        "A distância euclidiana entre os vetores x = np.array([0, 1, 4]) e y = np.array([5, 3, -1]) é:"
      ],
      "metadata": {
        "id": "KD30WeOC85EQ"
      }
    },
    {
      "cell_type": "code",
      "execution_count": 2,
      "metadata": {
        "colab": {
          "base_uri": "https://localhost:8080/"
        },
        "id": "TMFrkiYe8jY3",
        "outputId": "852dbb58-9d58-441a-f798-293a9e9027b5"
      },
      "outputs": [
        {
          "output_type": "stream",
          "name": "stdout",
          "text": [
            "7.348\n"
          ]
        }
      ],
      "source": [
        "def euclidian_distance(x,y):\n",
        "    return np.sqrt(np.sum((x-y)**2))\n",
        "\n",
        "# vetores do enunciado\n",
        "x = np.array([0, 1, 4])\n",
        "y = np.array([5, 3, -1])\n",
        "\n",
        "print(round(euclidian_distance(x,y),3))"
      ]
    },
    {
      "cell_type": "markdown",
      "source": [
        "### Pergunta 2:\n",
        "A distância euclidiana entre os vetores x = np.array([0, 1, 4]) e y = np.array([0, 1, 4]) é:"
      ],
      "metadata": {
        "id": "TCZ5E4yH-JJ1"
      }
    },
    {
      "cell_type": "code",
      "source": [
        "#vetores do enunciado\n",
        "x = np.array([0, 1, 4])\n",
        "y = np.array([0, 1, 4])\n",
        "print(round(euclidian_distance(x,y),3))"
      ],
      "metadata": {
        "colab": {
          "base_uri": "https://localhost:8080/"
        },
        "id": "9l9aL8qQ9oHT",
        "outputId": "2c33616e-9ee3-4c22-e46c-21de97dc3b4b"
      },
      "execution_count": 3,
      "outputs": [
        {
          "output_type": "stream",
          "name": "stdout",
          "text": [
            "0.0\n"
          ]
        }
      ]
    },
    {
      "cell_type": "markdown",
      "source": [
        "### Pergunta 3:\n",
        "A norma quadrática (ou norma L2) do vetor x = np.array([3, 4]) é:\n",
        "\n",
        "(Dica: Utilize a função np.linalg.norm)."
      ],
      "metadata": {
        "id": "tUygvDH--ZZ7"
      }
    },
    {
      "cell_type": "code",
      "source": [
        "#vetor do enunciado\n",
        "x = np.array([3, 4])\n",
        "print(np.linalg.norm(x))\n"
      ],
      "metadata": {
        "colab": {
          "base_uri": "https://localhost:8080/"
        },
        "id": "nZCFLt-p-W87",
        "outputId": "9fbc19bd-0cb6-4625-a517-18e4a60f4522"
      },
      "execution_count": 4,
      "outputs": [
        {
          "output_type": "stream",
          "name": "stdout",
          "text": [
            "5.0\n"
          ]
        }
      ]
    },
    {
      "cell_type": "markdown",
      "source": [
        "### Pergunta 4:\n",
        "A distância de Hamming NÃO normalizada entre os vetores x = np.array([1, 0, 0, 1, 0, 0]) e y = np.array([1, 1, 0, 0, 0, 0]) é:"
      ],
      "metadata": {
        "id": "J99HSYk-_Bg5"
      }
    },
    {
      "cell_type": "code",
      "source": [
        "def hamming_distance(x,y,normalize=False):\n",
        "    return np.sum(x!=y)/len(x) if normalize else np.sum(x!=y)\n",
        "\n",
        "#vetores do enunciado\n",
        "x = np.array([1, 0, 0, 1, 0, 0])\n",
        "y = np.array([1, 1, 0, 0, 0, 0])\n",
        "print(round(hamming_distance(x,y,False),1))"
      ],
      "metadata": {
        "colab": {
          "base_uri": "https://localhost:8080/"
        },
        "id": "mOSgLvBA-6JL",
        "outputId": "eb898708-59e7-43b5-c436-30532bdb4d86"
      },
      "execution_count": 5,
      "outputs": [
        {
          "output_type": "stream",
          "name": "stdout",
          "text": [
            "2\n"
          ]
        }
      ]
    },
    {
      "cell_type": "markdown",
      "source": [
        "### Pergunta 5:\n",
        "A distância de Hamming normalizada entre os vetores x = np.array([1, 0, 0, 1, 0, 0]) e y = np.array([1, 1, 0, 0, 0, 0]) é:"
      ],
      "metadata": {
        "id": "ju6NX0mqAYkJ"
      }
    },
    {
      "cell_type": "code",
      "source": [
        "#vetores do enunciado\n",
        "x = np.array([1, 0, 0, 1, 0, 0])\n",
        "y = np.array([1, 1, 0, 0, 0, 0])\n",
        "print(round(hamming_distance(x,y,True),2))"
      ],
      "metadata": {
        "colab": {
          "base_uri": "https://localhost:8080/"
        },
        "id": "AcmZv_vvAUPb",
        "outputId": "8970168b-9fd4-4665-e296-0b567fcee4a0"
      },
      "execution_count": 6,
      "outputs": [
        {
          "output_type": "stream",
          "name": "stdout",
          "text": [
            "0.33\n"
          ]
        }
      ]
    },
    {
      "cell_type": "markdown",
      "source": [
        "### Pergunta 6:\n",
        "A similaridade de cossenos entre os vetores x = np.array([1, 0]) e y = np.array([0, 1]) é:"
      ],
      "metadata": {
        "id": "O1nmlsI7ArSw"
      }
    },
    {
      "cell_type": "code",
      "source": [
        "def cosine_similarity(x,y):\n",
        "    return np.dot(x,y)/(np.linalg.norm(x)*np.linalg.norm(y))\n",
        "\n",
        "#vetores do enunciado\n",
        "x = np.array([1, 0])\n",
        "y = np.array([0, 1])\n",
        "print(cosine_similarity(x,y))"
      ],
      "metadata": {
        "colab": {
          "base_uri": "https://localhost:8080/"
        },
        "id": "hi_fScrAAhUE",
        "outputId": "c66e3a41-0bdb-451b-8f35-224e82173000"
      },
      "execution_count": 7,
      "outputs": [
        {
          "output_type": "stream",
          "name": "stdout",
          "text": [
            "0.0\n"
          ]
        }
      ]
    },
    {
      "cell_type": "markdown",
      "source": [
        "### Pergunta 7:\n",
        "A similaridade de cossenos entre os vetores x = np.array([1, 0]) e y = np.array([2, 0]) é:"
      ],
      "metadata": {
        "id": "2Mk_D2IPB4K4"
      }
    },
    {
      "cell_type": "code",
      "source": [
        "#vetores do enunciado\n",
        "x = np.array([1, 0])\n",
        "y = np.array([2, 0])\n",
        "print(cosine_similarity(x,y))"
      ],
      "metadata": {
        "colab": {
          "base_uri": "https://localhost:8080/"
        },
        "id": "Tlx6OdTpBzC6",
        "outputId": "38e6b920-f89d-4175-f97a-94192e2d74a1"
      },
      "execution_count": 8,
      "outputs": [
        {
          "output_type": "stream",
          "name": "stdout",
          "text": [
            "1.0\n"
          ]
        }
      ]
    },
    {
      "cell_type": "markdown",
      "source": [
        "### Pergunta 8:\n",
        "A similaridade de cossenos entre os vetores x = np.array([1, 0]) e y = np.array([-1, 0]) é:"
      ],
      "metadata": {
        "id": "xGGqALhjCEDt"
      }
    },
    {
      "cell_type": "code",
      "source": [
        "#vetores do enunciado\n",
        "x = np.array([1, 0])\n",
        "y = np.array([-1, 0])\n",
        "print(cosine_similarity(x,y))"
      ],
      "metadata": {
        "colab": {
          "base_uri": "https://localhost:8080/"
        },
        "id": "TWATfBswCBci",
        "outputId": "916b4f89-e7f1-4b7a-dd77-2c3da63109a3"
      },
      "execution_count": 9,
      "outputs": [
        {
          "output_type": "stream",
          "name": "stdout",
          "text": [
            "-1.0\n"
          ]
        }
      ]
    },
    {
      "cell_type": "markdown",
      "source": [
        "### Pergunta 9:\n",
        "Podemos dizer que x = [1, 0] e y = [0, 1] são vetores:\n"
      ],
      "metadata": {
        "id": "1LLf-AwpCWMZ"
      }
    },
    {
      "cell_type": "markdown",
      "source": [
        "Ortogonais"
      ],
      "metadata": {
        "id": "DVecThs5CiRj"
      }
    },
    {
      "cell_type": "markdown",
      "source": [
        "### Pergunta 10:\n",
        "O produto interno (dot product) entre os vetores x = np.array([1, -1]) e y = np.array([-1, 1]) é:"
      ],
      "metadata": {
        "id": "LgJs6mIGCjxq"
      }
    },
    {
      "cell_type": "code",
      "source": [
        "#vetores do enunciado\n",
        "x = np.array([1, -1])\n",
        "y = np.array([-1, 1])\n",
        "print(np.dot(x,y))"
      ],
      "metadata": {
        "colab": {
          "base_uri": "https://localhost:8080/"
        },
        "id": "k6aeYTLNCKzu",
        "outputId": "4241b28f-54dc-4711-b336-35bc6ad2483a"
      },
      "execution_count": 10,
      "outputs": [
        {
          "output_type": "stream",
          "name": "stdout",
          "text": [
            "-2\n"
          ]
        }
      ]
    },
    {
      "cell_type": "markdown",
      "source": [
        "### Pergunta 11:\n",
        "O que é a função utilidade em sistemas de recomendação?"
      ],
      "metadata": {
        "id": "ua7XaMvlC5Ex"
      }
    },
    {
      "cell_type": "markdown",
      "source": [
        "É a função que relaciona as avaliações R de um conjunto de clientes C ao conjunto de itens S."
      ],
      "metadata": {
        "id": "YO48WzldDOOg"
      }
    },
    {
      "cell_type": "markdown",
      "source": [
        "### Pergunta 12:\n",
        "São métricas para cálculo de distância ou similaridade entre dois vetores, EXCETO:\n"
      ],
      "metadata": {
        "id": "qleiaxI-DPXR"
      }
    },
    {
      "cell_type": "markdown",
      "source": [
        "Validação cruzada"
      ],
      "metadata": {
        "id": "TdZE_qu6DTrY"
      }
    },
    {
      "cell_type": "markdown",
      "source": [
        "### Pergunta 13:\n",
        "Ao recomendar um filme com base em um sistema de recomendação baseado em conteúdo, qual atributo abaixo NÃO seria utilizado?"
      ],
      "metadata": {
        "id": "hRg2Ah3ADUa1"
      }
    },
    {
      "cell_type": "markdown",
      "source": [
        "Avaliações de outros usuários ao filme."
      ],
      "metadata": {
        "id": "Z_NnhoZqDX6O"
      }
    },
    {
      "cell_type": "markdown",
      "source": [
        "### Pergunta 14:\n",
        "Qual das seguintes etapas NÃO está presente na recomendação baseada em conteúdo?"
      ],
      "metadata": {
        "id": "wA3DIl85DZNs"
      }
    },
    {
      "cell_type": "markdown",
      "source": [
        "Cálculo da média das notas de outros usuários."
      ],
      "metadata": {
        "id": "eHnda1cMDdqr"
      }
    }
  ]
}