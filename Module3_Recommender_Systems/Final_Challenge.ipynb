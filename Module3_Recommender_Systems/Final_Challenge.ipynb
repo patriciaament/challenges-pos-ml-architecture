{
  "nbformat": 4,
  "nbformat_minor": 0,
  "metadata": {
    "colab": {
      "provenance": []
    },
    "kernelspec": {
      "name": "python3",
      "display_name": "Python 3"
    },
    "language_info": {
      "name": "python"
    }
  },
  "cells": [
    {
      "cell_type": "markdown",
      "source": [
        "# Projeto Final: Sistemas de Recomendação\n",
        "<hr>\n",
        "\n",
        "#### Implementação de funções usadas em sistemas de recomendação <br>"
      ],
      "metadata": {
        "id": "pE12vQlkIHn1"
      }
    },
    {
      "cell_type": "code",
      "execution_count": 1,
      "metadata": {
        "id": "2JdlsH3wIGQz"
      },
      "outputs": [],
      "source": [
        "# importando bibliotecas necessarias\n",
        "import numpy as np\n",
        "import pandas as pd\n",
        "import matplotlib.pyplot as plt\n",
        "from scipy.spatial.distance import pdist, hamming, cosine"
      ]
    },
    {
      "cell_type": "code",
      "source": [
        "# gerando a matriz de avaliações conforme instruções do projeto\n",
        "ratings = {'I1': [4.0, 5.0, 0.0, 4.1, 1.0],\n",
        "           'I2': [0.0, 4.5, 0.0, 3.0, 4.0],\n",
        "           'I3': [0.0, 4.0, 0.0, 0.0, 0.0],\n",
        "           'I4': [4.7, 0.0, 1.5, 4.9, 2.5],\n",
        "           'I5': [1.0, 0.0, 5.0, 0.0, 3.8],\n",
        "           'I6': [0.0, 0.0, 4.0, 0.0, 1.0],\n",
        "           'I7': [0.0, 0.0, 0.0, 3.0, 5.0]}\n",
        "ratings_df = pd.DataFrame(ratings, index=['U1', 'U2', 'U3', 'U4', 'U5'], dtype=float)\n",
        "ratings_df"
      ],
      "metadata": {
        "colab": {
          "base_uri": "https://localhost:8080/",
          "height": 206
        },
        "id": "ivaHxI72Ic2Y",
        "outputId": "fe5a6239-e448-412f-c2e5-38afc2e1d2ea"
      },
      "execution_count": 2,
      "outputs": [
        {
          "output_type": "execute_result",
          "data": {
            "text/plain": [
              "     I1   I2   I3   I4   I5   I6   I7\n",
              "U1  4.0  0.0  0.0  4.7  1.0  0.0  0.0\n",
              "U2  5.0  4.5  4.0  0.0  0.0  0.0  0.0\n",
              "U3  0.0  0.0  0.0  1.5  5.0  4.0  0.0\n",
              "U4  4.1  3.0  0.0  4.9  0.0  0.0  3.0\n",
              "U5  1.0  4.0  0.0  2.5  3.8  1.0  5.0"
            ],
            "text/html": [
              "\n",
              "  <div id=\"df-267aeda0-d212-4a06-b881-41995af7798a\" class=\"colab-df-container\">\n",
              "    <div>\n",
              "<style scoped>\n",
              "    .dataframe tbody tr th:only-of-type {\n",
              "        vertical-align: middle;\n",
              "    }\n",
              "\n",
              "    .dataframe tbody tr th {\n",
              "        vertical-align: top;\n",
              "    }\n",
              "\n",
              "    .dataframe thead th {\n",
              "        text-align: right;\n",
              "    }\n",
              "</style>\n",
              "<table border=\"1\" class=\"dataframe\">\n",
              "  <thead>\n",
              "    <tr style=\"text-align: right;\">\n",
              "      <th></th>\n",
              "      <th>I1</th>\n",
              "      <th>I2</th>\n",
              "      <th>I3</th>\n",
              "      <th>I4</th>\n",
              "      <th>I5</th>\n",
              "      <th>I6</th>\n",
              "      <th>I7</th>\n",
              "    </tr>\n",
              "  </thead>\n",
              "  <tbody>\n",
              "    <tr>\n",
              "      <th>U1</th>\n",
              "      <td>4.0</td>\n",
              "      <td>0.0</td>\n",
              "      <td>0.0</td>\n",
              "      <td>4.7</td>\n",
              "      <td>1.0</td>\n",
              "      <td>0.0</td>\n",
              "      <td>0.0</td>\n",
              "    </tr>\n",
              "    <tr>\n",
              "      <th>U2</th>\n",
              "      <td>5.0</td>\n",
              "      <td>4.5</td>\n",
              "      <td>4.0</td>\n",
              "      <td>0.0</td>\n",
              "      <td>0.0</td>\n",
              "      <td>0.0</td>\n",
              "      <td>0.0</td>\n",
              "    </tr>\n",
              "    <tr>\n",
              "      <th>U3</th>\n",
              "      <td>0.0</td>\n",
              "      <td>0.0</td>\n",
              "      <td>0.0</td>\n",
              "      <td>1.5</td>\n",
              "      <td>5.0</td>\n",
              "      <td>4.0</td>\n",
              "      <td>0.0</td>\n",
              "    </tr>\n",
              "    <tr>\n",
              "      <th>U4</th>\n",
              "      <td>4.1</td>\n",
              "      <td>3.0</td>\n",
              "      <td>0.0</td>\n",
              "      <td>4.9</td>\n",
              "      <td>0.0</td>\n",
              "      <td>0.0</td>\n",
              "      <td>3.0</td>\n",
              "    </tr>\n",
              "    <tr>\n",
              "      <th>U5</th>\n",
              "      <td>1.0</td>\n",
              "      <td>4.0</td>\n",
              "      <td>0.0</td>\n",
              "      <td>2.5</td>\n",
              "      <td>3.8</td>\n",
              "      <td>1.0</td>\n",
              "      <td>5.0</td>\n",
              "    </tr>\n",
              "  </tbody>\n",
              "</table>\n",
              "</div>\n",
              "    <div class=\"colab-df-buttons\">\n",
              "\n",
              "  <div class=\"colab-df-container\">\n",
              "    <button class=\"colab-df-convert\" onclick=\"convertToInteractive('df-267aeda0-d212-4a06-b881-41995af7798a')\"\n",
              "            title=\"Convert this dataframe to an interactive table.\"\n",
              "            style=\"display:none;\">\n",
              "\n",
              "  <svg xmlns=\"http://www.w3.org/2000/svg\" height=\"24px\" viewBox=\"0 -960 960 960\">\n",
              "    <path d=\"M120-120v-720h720v720H120Zm60-500h600v-160H180v160Zm220 220h160v-160H400v160Zm0 220h160v-160H400v160ZM180-400h160v-160H180v160Zm440 0h160v-160H620v160ZM180-180h160v-160H180v160Zm440 0h160v-160H620v160Z\"/>\n",
              "  </svg>\n",
              "    </button>\n",
              "\n",
              "  <style>\n",
              "    .colab-df-container {\n",
              "      display:flex;\n",
              "      gap: 12px;\n",
              "    }\n",
              "\n",
              "    .colab-df-convert {\n",
              "      background-color: #E8F0FE;\n",
              "      border: none;\n",
              "      border-radius: 50%;\n",
              "      cursor: pointer;\n",
              "      display: none;\n",
              "      fill: #1967D2;\n",
              "      height: 32px;\n",
              "      padding: 0 0 0 0;\n",
              "      width: 32px;\n",
              "    }\n",
              "\n",
              "    .colab-df-convert:hover {\n",
              "      background-color: #E2EBFA;\n",
              "      box-shadow: 0px 1px 2px rgba(60, 64, 67, 0.3), 0px 1px 3px 1px rgba(60, 64, 67, 0.15);\n",
              "      fill: #174EA6;\n",
              "    }\n",
              "\n",
              "    .colab-df-buttons div {\n",
              "      margin-bottom: 4px;\n",
              "    }\n",
              "\n",
              "    [theme=dark] .colab-df-convert {\n",
              "      background-color: #3B4455;\n",
              "      fill: #D2E3FC;\n",
              "    }\n",
              "\n",
              "    [theme=dark] .colab-df-convert:hover {\n",
              "      background-color: #434B5C;\n",
              "      box-shadow: 0px 1px 3px 1px rgba(0, 0, 0, 0.15);\n",
              "      filter: drop-shadow(0px 1px 2px rgba(0, 0, 0, 0.3));\n",
              "      fill: #FFFFFF;\n",
              "    }\n",
              "  </style>\n",
              "\n",
              "    <script>\n",
              "      const buttonEl =\n",
              "        document.querySelector('#df-267aeda0-d212-4a06-b881-41995af7798a button.colab-df-convert');\n",
              "      buttonEl.style.display =\n",
              "        google.colab.kernel.accessAllowed ? 'block' : 'none';\n",
              "\n",
              "      async function convertToInteractive(key) {\n",
              "        const element = document.querySelector('#df-267aeda0-d212-4a06-b881-41995af7798a');\n",
              "        const dataTable =\n",
              "          await google.colab.kernel.invokeFunction('convertToInteractive',\n",
              "                                                    [key], {});\n",
              "        if (!dataTable) return;\n",
              "\n",
              "        const docLinkHtml = 'Like what you see? Visit the ' +\n",
              "          '<a target=\"_blank\" href=https://colab.research.google.com/notebooks/data_table.ipynb>data table notebook</a>'\n",
              "          + ' to learn more about interactive tables.';\n",
              "        element.innerHTML = '';\n",
              "        dataTable['output_type'] = 'display_data';\n",
              "        await google.colab.output.renderOutput(dataTable, element);\n",
              "        const docLink = document.createElement('div');\n",
              "        docLink.innerHTML = docLinkHtml;\n",
              "        element.appendChild(docLink);\n",
              "      }\n",
              "    </script>\n",
              "  </div>\n",
              "\n",
              "\n",
              "<div id=\"df-e14d59c8-69b3-4b33-ad2c-108664413ad5\">\n",
              "  <button class=\"colab-df-quickchart\" onclick=\"quickchart('df-e14d59c8-69b3-4b33-ad2c-108664413ad5')\"\n",
              "            title=\"Suggest charts\"\n",
              "            style=\"display:none;\">\n",
              "\n",
              "<svg xmlns=\"http://www.w3.org/2000/svg\" height=\"24px\"viewBox=\"0 0 24 24\"\n",
              "     width=\"24px\">\n",
              "    <g>\n",
              "        <path d=\"M19 3H5c-1.1 0-2 .9-2 2v14c0 1.1.9 2 2 2h14c1.1 0 2-.9 2-2V5c0-1.1-.9-2-2-2zM9 17H7v-7h2v7zm4 0h-2V7h2v10zm4 0h-2v-4h2v4z\"/>\n",
              "    </g>\n",
              "</svg>\n",
              "  </button>\n",
              "\n",
              "<style>\n",
              "  .colab-df-quickchart {\n",
              "      --bg-color: #E8F0FE;\n",
              "      --fill-color: #1967D2;\n",
              "      --hover-bg-color: #E2EBFA;\n",
              "      --hover-fill-color: #174EA6;\n",
              "      --disabled-fill-color: #AAA;\n",
              "      --disabled-bg-color: #DDD;\n",
              "  }\n",
              "\n",
              "  [theme=dark] .colab-df-quickchart {\n",
              "      --bg-color: #3B4455;\n",
              "      --fill-color: #D2E3FC;\n",
              "      --hover-bg-color: #434B5C;\n",
              "      --hover-fill-color: #FFFFFF;\n",
              "      --disabled-bg-color: #3B4455;\n",
              "      --disabled-fill-color: #666;\n",
              "  }\n",
              "\n",
              "  .colab-df-quickchart {\n",
              "    background-color: var(--bg-color);\n",
              "    border: none;\n",
              "    border-radius: 50%;\n",
              "    cursor: pointer;\n",
              "    display: none;\n",
              "    fill: var(--fill-color);\n",
              "    height: 32px;\n",
              "    padding: 0;\n",
              "    width: 32px;\n",
              "  }\n",
              "\n",
              "  .colab-df-quickchart:hover {\n",
              "    background-color: var(--hover-bg-color);\n",
              "    box-shadow: 0 1px 2px rgba(60, 64, 67, 0.3), 0 1px 3px 1px rgba(60, 64, 67, 0.15);\n",
              "    fill: var(--button-hover-fill-color);\n",
              "  }\n",
              "\n",
              "  .colab-df-quickchart-complete:disabled,\n",
              "  .colab-df-quickchart-complete:disabled:hover {\n",
              "    background-color: var(--disabled-bg-color);\n",
              "    fill: var(--disabled-fill-color);\n",
              "    box-shadow: none;\n",
              "  }\n",
              "\n",
              "  .colab-df-spinner {\n",
              "    border: 2px solid var(--fill-color);\n",
              "    border-color: transparent;\n",
              "    border-bottom-color: var(--fill-color);\n",
              "    animation:\n",
              "      spin 1s steps(1) infinite;\n",
              "  }\n",
              "\n",
              "  @keyframes spin {\n",
              "    0% {\n",
              "      border-color: transparent;\n",
              "      border-bottom-color: var(--fill-color);\n",
              "      border-left-color: var(--fill-color);\n",
              "    }\n",
              "    20% {\n",
              "      border-color: transparent;\n",
              "      border-left-color: var(--fill-color);\n",
              "      border-top-color: var(--fill-color);\n",
              "    }\n",
              "    30% {\n",
              "      border-color: transparent;\n",
              "      border-left-color: var(--fill-color);\n",
              "      border-top-color: var(--fill-color);\n",
              "      border-right-color: var(--fill-color);\n",
              "    }\n",
              "    40% {\n",
              "      border-color: transparent;\n",
              "      border-right-color: var(--fill-color);\n",
              "      border-top-color: var(--fill-color);\n",
              "    }\n",
              "    60% {\n",
              "      border-color: transparent;\n",
              "      border-right-color: var(--fill-color);\n",
              "    }\n",
              "    80% {\n",
              "      border-color: transparent;\n",
              "      border-right-color: var(--fill-color);\n",
              "      border-bottom-color: var(--fill-color);\n",
              "    }\n",
              "    90% {\n",
              "      border-color: transparent;\n",
              "      border-bottom-color: var(--fill-color);\n",
              "    }\n",
              "  }\n",
              "</style>\n",
              "\n",
              "  <script>\n",
              "    async function quickchart(key) {\n",
              "      const quickchartButtonEl =\n",
              "        document.querySelector('#' + key + ' button');\n",
              "      quickchartButtonEl.disabled = true;  // To prevent multiple clicks.\n",
              "      quickchartButtonEl.classList.add('colab-df-spinner');\n",
              "      try {\n",
              "        const charts = await google.colab.kernel.invokeFunction(\n",
              "            'suggestCharts', [key], {});\n",
              "      } catch (error) {\n",
              "        console.error('Error during call to suggestCharts:', error);\n",
              "      }\n",
              "      quickchartButtonEl.classList.remove('colab-df-spinner');\n",
              "      quickchartButtonEl.classList.add('colab-df-quickchart-complete');\n",
              "    }\n",
              "    (() => {\n",
              "      let quickchartButtonEl =\n",
              "        document.querySelector('#df-e14d59c8-69b3-4b33-ad2c-108664413ad5 button');\n",
              "      quickchartButtonEl.style.display =\n",
              "        google.colab.kernel.accessAllowed ? 'block' : 'none';\n",
              "    })();\n",
              "  </script>\n",
              "</div>\n",
              "\n",
              "  <div id=\"id_7007419e-df15-4765-81a4-4130126350d2\">\n",
              "    <style>\n",
              "      .colab-df-generate {\n",
              "        background-color: #E8F0FE;\n",
              "        border: none;\n",
              "        border-radius: 50%;\n",
              "        cursor: pointer;\n",
              "        display: none;\n",
              "        fill: #1967D2;\n",
              "        height: 32px;\n",
              "        padding: 0 0 0 0;\n",
              "        width: 32px;\n",
              "      }\n",
              "\n",
              "      .colab-df-generate:hover {\n",
              "        background-color: #E2EBFA;\n",
              "        box-shadow: 0px 1px 2px rgba(60, 64, 67, 0.3), 0px 1px 3px 1px rgba(60, 64, 67, 0.15);\n",
              "        fill: #174EA6;\n",
              "      }\n",
              "\n",
              "      [theme=dark] .colab-df-generate {\n",
              "        background-color: #3B4455;\n",
              "        fill: #D2E3FC;\n",
              "      }\n",
              "\n",
              "      [theme=dark] .colab-df-generate:hover {\n",
              "        background-color: #434B5C;\n",
              "        box-shadow: 0px 1px 3px 1px rgba(0, 0, 0, 0.15);\n",
              "        filter: drop-shadow(0px 1px 2px rgba(0, 0, 0, 0.3));\n",
              "        fill: #FFFFFF;\n",
              "      }\n",
              "    </style>\n",
              "    <button class=\"colab-df-generate\" onclick=\"generateWithVariable('ratings_df')\"\n",
              "            title=\"Generate code using this dataframe.\"\n",
              "            style=\"display:none;\">\n",
              "\n",
              "  <svg xmlns=\"http://www.w3.org/2000/svg\" height=\"24px\"viewBox=\"0 0 24 24\"\n",
              "       width=\"24px\">\n",
              "    <path d=\"M7,19H8.4L18.45,9,17,7.55,7,17.6ZM5,21V16.75L18.45,3.32a2,2,0,0,1,2.83,0l1.4,1.43a1.91,1.91,0,0,1,.58,1.4,1.91,1.91,0,0,1-.58,1.4L9.25,21ZM18.45,9,17,7.55Zm-12,3A5.31,5.31,0,0,0,4.9,8.1,5.31,5.31,0,0,0,1,6.5,5.31,5.31,0,0,0,4.9,4.9,5.31,5.31,0,0,0,6.5,1,5.31,5.31,0,0,0,8.1,4.9,5.31,5.31,0,0,0,12,6.5,5.46,5.46,0,0,0,6.5,12Z\"/>\n",
              "  </svg>\n",
              "    </button>\n",
              "    <script>\n",
              "      (() => {\n",
              "      const buttonEl =\n",
              "        document.querySelector('#id_7007419e-df15-4765-81a4-4130126350d2 button.colab-df-generate');\n",
              "      buttonEl.style.display =\n",
              "        google.colab.kernel.accessAllowed ? 'block' : 'none';\n",
              "\n",
              "      buttonEl.onclick = () => {\n",
              "        google.colab.notebook.generateWithVariable('ratings_df');\n",
              "      }\n",
              "      })();\n",
              "    </script>\n",
              "  </div>\n",
              "\n",
              "    </div>\n",
              "  </div>\n"
            ],
            "application/vnd.google.colaboratory.intrinsic+json": {
              "type": "dataframe",
              "variable_name": "ratings_df",
              "summary": "{\n  \"name\": \"ratings_df\",\n  \"rows\": 5,\n  \"fields\": [\n    {\n      \"column\": \"I1\",\n      \"properties\": {\n        \"dtype\": \"number\",\n        \"std\": 2.1822007240398396,\n        \"min\": 0.0,\n        \"max\": 5.0,\n        \"num_unique_values\": 5,\n        \"samples\": [\n          5.0,\n          1.0,\n          0.0\n        ],\n        \"semantic_type\": \"\",\n        \"description\": \"\"\n      }\n    },\n    {\n      \"column\": \"I2\",\n      \"properties\": {\n        \"dtype\": \"number\",\n        \"std\": 2.16794833886788,\n        \"min\": 0.0,\n        \"max\": 4.5,\n        \"num_unique_values\": 4,\n        \"samples\": [\n          4.5,\n          4.0,\n          0.0\n        ],\n        \"semantic_type\": \"\",\n        \"description\": \"\"\n      }\n    },\n    {\n      \"column\": \"I3\",\n      \"properties\": {\n        \"dtype\": \"number\",\n        \"std\": 1.7888543819998322,\n        \"min\": 0.0,\n        \"max\": 4.0,\n        \"num_unique_values\": 2,\n        \"samples\": [\n          4.0,\n          0.0\n        ],\n        \"semantic_type\": \"\",\n        \"description\": \"\"\n      }\n    },\n    {\n      \"column\": \"I4\",\n      \"properties\": {\n        \"dtype\": \"number\",\n        \"std\": 2.098094373473224,\n        \"min\": 0.0,\n        \"max\": 4.9,\n        \"num_unique_values\": 5,\n        \"samples\": [\n          0.0,\n          2.5\n        ],\n        \"semantic_type\": \"\",\n        \"description\": \"\"\n      }\n    },\n    {\n      \"column\": \"I5\",\n      \"properties\": {\n        \"dtype\": \"number\",\n        \"std\": 2.3039097204534733,\n        \"min\": 0.0,\n        \"max\": 5.0,\n        \"num_unique_values\": 4,\n        \"samples\": [\n          0.0,\n          3.8\n        ],\n        \"semantic_type\": \"\",\n        \"description\": \"\"\n      }\n    },\n    {\n      \"column\": \"I6\",\n      \"properties\": {\n        \"dtype\": \"number\",\n        \"std\": 1.7320508075688772,\n        \"min\": 0.0,\n        \"max\": 4.0,\n        \"num_unique_values\": 3,\n        \"samples\": [\n          0.0,\n          4.0\n        ],\n        \"semantic_type\": \"\",\n        \"description\": \"\"\n      }\n    },\n    {\n      \"column\": \"I7\",\n      \"properties\": {\n        \"dtype\": \"number\",\n        \"std\": 2.3021728866442674,\n        \"min\": 0.0,\n        \"max\": 5.0,\n        \"num_unique_values\": 3,\n        \"samples\": [\n          0.0,\n          3.0\n        ],\n        \"semantic_type\": \"\",\n        \"description\": \"\"\n      }\n    }\n  ]\n}"
            }
          },
          "metadata": {},
          "execution_count": 2
        }
      ]
    },
    {
      "cell_type": "markdown",
      "source": [
        "### Pergunta 1:\n",
        "Qual o valor da similaridade de cossenos entre os usuários U1 e U2?"
      ],
      "metadata": {
        "id": "a6yJNjuSIYbe"
      }
    },
    {
      "cell_type": "code",
      "source": [
        "x = ratings_df.loc['U1'].values\n",
        "y = ratings_df.loc['U2'].values\n",
        "\n",
        "def cosine_similarity(x,y):\n",
        "    return np.dot(x,y)/(np.linalg.norm(x)*np.linalg.norm(y))\n",
        "\n",
        "print(round(cosine_similarity(x,y),2))"
      ],
      "metadata": {
        "colab": {
          "base_uri": "https://localhost:8080/"
        },
        "id": "D1oP-_EzIXls",
        "outputId": "a64bd8db-34a7-4c88-e2f3-b8ec55698f35"
      },
      "execution_count": 3,
      "outputs": [
        {
          "output_type": "stream",
          "name": "stdout",
          "text": [
            "0.41\n"
          ]
        }
      ]
    },
    {
      "cell_type": "markdown",
      "source": [
        "### Pergunta 2:\n",
        "Qual o valor da similaridade de cossenos entre os usuários U1 e U3?"
      ],
      "metadata": {
        "id": "0XcCzaPPMFH8"
      }
    },
    {
      "cell_type": "code",
      "source": [
        "x = ratings_df.loc['U1'].values\n",
        "y = ratings_df.loc['U3'].values\n",
        "\n",
        "print(round(cosine_similarity(x,y),2))"
      ],
      "metadata": {
        "colab": {
          "base_uri": "https://localhost:8080/"
        },
        "id": "eMuhL4oJLSEq",
        "outputId": "25f17643-d25b-4be6-f68c-515abf696545"
      },
      "execution_count": 4,
      "outputs": [
        {
          "output_type": "stream",
          "name": "stdout",
          "text": [
            "0.29\n"
          ]
        }
      ]
    },
    {
      "cell_type": "markdown",
      "source": [
        "### Pergunta 3:\n",
        "Qual o valor da similaridade de cossenos entre os usuários U1 e U4?"
      ],
      "metadata": {
        "id": "BaBa9lx4MO28"
      }
    },
    {
      "cell_type": "code",
      "source": [
        "x = ratings_df.loc['U1'].values\n",
        "y = ratings_df.loc['U4'].values\n",
        "\n",
        "print(round(cosine_similarity(x,y),2))"
      ],
      "metadata": {
        "colab": {
          "base_uri": "https://localhost:8080/"
        },
        "id": "K0LtqEgSMNps",
        "outputId": "b70e56df-0111-42da-88c7-e33eec86fdd4"
      },
      "execution_count": 5,
      "outputs": [
        {
          "output_type": "stream",
          "name": "stdout",
          "text": [
            "0.82\n"
          ]
        }
      ]
    },
    {
      "cell_type": "markdown",
      "source": [
        "### Pergunta 4:\n",
        "Qual o valor da similaridade de cossenos entre os usuários U1 e U5?"
      ],
      "metadata": {
        "id": "dAasuM6AMVAY"
      }
    },
    {
      "cell_type": "code",
      "source": [
        "x = ratings_df.loc['U1'].values\n",
        "y = ratings_df.loc['U5'].values\n",
        "\n",
        "print(round(cosine_similarity(x,y),2))"
      ],
      "metadata": {
        "colab": {
          "base_uri": "https://localhost:8080/"
        },
        "id": "sR1VZvbIMTxD",
        "outputId": "1e25d488-f078-4a19-a4fa-ce30061636c9"
      },
      "execution_count": 6,
      "outputs": [
        {
          "output_type": "stream",
          "name": "stdout",
          "text": [
            "0.39\n"
          ]
        }
      ]
    },
    {
      "cell_type": "markdown",
      "source": [
        "### Pergunta 5:\n",
        "Qual o valor da similaridade de cossenos centralizada entre os usuários U1 e U2?"
      ],
      "metadata": {
        "id": "321vVJPjMaAU"
      }
    },
    {
      "cell_type": "code",
      "source": [
        "def array_centering(v: np.ndarray):\n",
        "  v = v.copy()\n",
        "  non_zeros = v > 0\n",
        "  v[non_zeros] = v[non_zeros] - np.mean(v[non_zeros]) + 1e-6\n",
        "  return v\n",
        "\n",
        "def centered_cosine_similarity(x,y):\n",
        "  x = array_centering(x)\n",
        "  y = array_centering(y)\n",
        "\n",
        "  centered_cosine_sim = cosine_similarity(x,y)\n",
        "  return centered_cosine_sim\n",
        "\n",
        "x = ratings_df.loc['U1'].values\n",
        "y = ratings_df.loc['U2'].values\n",
        "\n",
        "print(round(centered_cosine_similarity(x,y),2))"
      ],
      "metadata": {
        "colab": {
          "base_uri": "https://localhost:8080/"
        },
        "id": "F26LjE9gMYiM",
        "outputId": "bee8bed0-c95b-4b39-9578-1de1957a85cc"
      },
      "execution_count": 7,
      "outputs": [
        {
          "output_type": "stream",
          "name": "stdout",
          "text": [
            "0.2\n"
          ]
        }
      ]
    },
    {
      "cell_type": "markdown",
      "source": [
        "### Pergunta 6:\n",
        "Qual o valor da similaridade de cossenos centralizada entre os usuários U1 e U3?"
      ],
      "metadata": {
        "id": "hPNAkhMXN7AT"
      }
    },
    {
      "cell_type": "code",
      "source": [
        "x = ratings_df.loc['U1'].values\n",
        "y = ratings_df.loc['U3'].values\n",
        "\n",
        "print(round(centered_cosine_similarity(x,y),2))"
      ],
      "metadata": {
        "colab": {
          "base_uri": "https://localhost:8080/"
        },
        "id": "FaJeIdiINv1C",
        "outputId": "dbc2b330-8c4a-4428-d018-d1ed042b9560"
      },
      "execution_count": 8,
      "outputs": [
        {
          "output_type": "stream",
          "name": "stdout",
          "text": [
            "-0.89\n"
          ]
        }
      ]
    },
    {
      "cell_type": "markdown",
      "source": [
        "### Pergunta 7:\n",
        "Qual o valor da similaridade de cossenos centralizada entre os usuários U1 e U4?"
      ],
      "metadata": {
        "id": "AvR7GLqsOBPP"
      }
    },
    {
      "cell_type": "code",
      "source": [
        "x = ratings_df.loc['U1'].values\n",
        "y = ratings_df.loc['U4'].values\n",
        "\n",
        "print(round(centered_cosine_similarity(x,y),2))"
      ],
      "metadata": {
        "colab": {
          "base_uri": "https://localhost:8080/"
        },
        "id": "heeJjuiQOACx",
        "outputId": "acc50283-d686-4ec3-b4b9-3630cc77e4d6"
      },
      "execution_count": 9,
      "outputs": [
        {
          "output_type": "stream",
          "name": "stdout",
          "text": [
            "0.44\n"
          ]
        }
      ]
    },
    {
      "cell_type": "markdown",
      "source": [
        "### Pergunta 8:\n",
        "Qual o valor da similaridade de cossenos centralizada entre os usuários U1 e U5?"
      ],
      "metadata": {
        "id": "75m7OTPtOGDl"
      }
    },
    {
      "cell_type": "code",
      "source": [
        "x = ratings_df.loc['U1'].values\n",
        "y = ratings_df.loc['U5'].values\n",
        "\n",
        "print(round(centered_cosine_similarity(x,y),2))"
      ],
      "metadata": {
        "colab": {
          "base_uri": "https://localhost:8080/"
        },
        "id": "vZnB-JSQOE8m",
        "outputId": "6d7a3e8b-ee2b-4f18-a772-fd2796653c93"
      },
      "execution_count": 10,
      "outputs": [
        {
          "output_type": "stream",
          "name": "stdout",
          "text": [
            "-0.39\n"
          ]
        }
      ]
    },
    {
      "cell_type": "markdown",
      "source": [
        "### Pergunta 9:\n",
        "Considerando a similaridade de cossenos centralizada, qual o usuário é mais similar ao usuário U1?"
      ],
      "metadata": {
        "id": "FS9p9ZRNOr_b"
      }
    },
    {
      "cell_type": "code",
      "source": [
        "x = ratings_df.loc['U1'].values\n",
        "a = ratings_df.loc['U2'].values\n",
        "b = ratings_df.loc['U3'].values\n",
        "c = ratings_df.loc['U4'].values\n",
        "d = ratings_df.loc['U5'].values\n",
        "\n",
        "print('User 2: ', round(centered_cosine_similarity(x,a),2))\n",
        "print('User 3: ',round(centered_cosine_similarity(x,b),2))\n",
        "print('User 4: ',round(centered_cosine_similarity(x,c),2))\n",
        "print('User 5: ',round(centered_cosine_similarity(x,d),2))"
      ],
      "metadata": {
        "colab": {
          "base_uri": "https://localhost:8080/"
        },
        "id": "_VVr3vnpOKxA",
        "outputId": "3d585f3f-aada-47a4-a6a9-bc11494fa66b"
      },
      "execution_count": 11,
      "outputs": [
        {
          "output_type": "stream",
          "name": "stdout",
          "text": [
            "User 2:  0.2\n",
            "User 3:  -0.89\n",
            "User 4:  0.44\n",
            "User 5:  -0.39\n"
          ]
        }
      ]
    },
    {
      "cell_type": "markdown",
      "source": [
        "### Pergunta 10:\n",
        "Considerando a similaridade de cossenos centralizada, qual o segundo usuário mais similar ao usuário U1?"
      ],
      "metadata": {
        "id": "wfCrqs9xPUe3"
      }
    },
    {
      "cell_type": "code",
      "source": [
        "print('User 2: ', round(centered_cosine_similarity(x,a),2))"
      ],
      "metadata": {
        "colab": {
          "base_uri": "https://localhost:8080/"
        },
        "id": "qxSrp9VvPCRA",
        "outputId": "052858b1-0f97-4133-871e-f4edffecdda3"
      },
      "execution_count": 12,
      "outputs": [
        {
          "output_type": "stream",
          "name": "stdout",
          "text": [
            "User 2:  0.2\n"
          ]
        }
      ]
    },
    {
      "cell_type": "markdown",
      "source": [
        "### Pergunta 11:\n",
        "Considerando uma filtragem colaborativa User-User, com agregação pela média simples e número de vizinhos igual a 2, qual a predição para a avaliação do usuário U1 ao item I2?"
      ],
      "metadata": {
        "id": "7igJWhK7Pluo"
      }
    },
    {
      "cell_type": "code",
      "source": [
        "def estimate_rating(ratings_df,\n",
        "                    user_index=0,\n",
        "                    item_index=0,\n",
        "                    k=2,\n",
        "                    similarity=centered_cosine_similarity,\n",
        "                    aggregation='mean'):\n",
        "  item_rating = ratings_df.iloc[item_index].values\n",
        "\n",
        "  items_indexes = np.array([i for i in range(ratings_df.shape[0]) if i != item_index])\n",
        "  similarities = np.array([similarity(x=item_rating, y=ratings_df.iloc[i].values) for i in items_indexes])\n",
        "\n",
        "  items_rated = np.where(ratings_df.iloc[items_indexes, user_index]> 0)[0]\n",
        "  sorted_similarities = np.argsort(-1*similarities[items_rated])\n",
        "  k_closest = items_indexes[items_rated][sorted_similarities[:k]]\n",
        "\n",
        "  ratting_k_closest = ratings_df.iloc[k_closest, user_index]\n",
        "  if aggregation == 'mean':\n",
        "    prediction = np.mean(ratting_k_closest)\n",
        "  elif aggregation == 'wmean':\n",
        "    similarities_k_closest = similarities[items_rated][sorted_similarities[:k]]\n",
        "    prediction = np.dot(np.abs(similarities_k_closest),\n",
        "                        ratting_k_closest)/np.sum(np.abs(similarities_k_closest))\n",
        "  else:\n",
        "    raise ValueError('Invalid aggregation function')\n",
        "\n",
        "  prediction = prediction if not np.isnan(prediction) else 3\n",
        "\n",
        "  print(f\"Predicao do user {user_index}, item{item_index},\"\\\n",
        "        f\"k={k}, aggregation {aggregation} é: {prediction:.2f}\")\n",
        "  return prediction\n",
        "\n",
        "prediction = estimate_rating(ratings_df, user_index=1, item_index=2, k=2, aggregation='mean')"
      ],
      "metadata": {
        "colab": {
          "base_uri": "https://localhost:8080/"
        },
        "id": "2LOk_gutPkSN",
        "outputId": "5798c3c1-85e3-41c6-ebab-9b57b2d0476b"
      },
      "execution_count": 13,
      "outputs": [
        {
          "output_type": "stream",
          "name": "stdout",
          "text": [
            "Predicao do user 1, item2,k=2, aggregation mean é: 4.25\n"
          ]
        }
      ]
    },
    {
      "cell_type": "markdown",
      "source": [
        "### Pergunta 12:\n",
        "Considerando uma filtragem colaborativa User-User, com agregação pela média simples e número de vizinhos igual a 2, qual a predição para a avaliação do usuário U1 ao item I1? Suponha que a avaliação (U1, I1) seja desconhecida."
      ],
      "metadata": {
        "id": "sFJXCQAAXIdl"
      }
    },
    {
      "cell_type": "code",
      "source": [
        "prediction = estimate_rating(ratings_df, user_index=1, item_index=1, k=2, aggregation='mean')"
      ],
      "metadata": {
        "colab": {
          "base_uri": "https://localhost:8080/"
        },
        "id": "Djwv54j4T_d6",
        "outputId": "51c2bfe9-b6bd-4652-a2f6-22d6cd5e60e1"
      },
      "execution_count": 14,
      "outputs": [
        {
          "output_type": "stream",
          "name": "stdout",
          "text": [
            "Predicao do user 1, item1,k=2, aggregation mean é: 3.50\n"
          ]
        }
      ]
    }
  ]
}